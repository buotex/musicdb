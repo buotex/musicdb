{
 "cells": [
  {
   "cell_type": "code",
   "execution_count": 3,
   "metadata": {
    "collapsed": true
   },
   "outputs": [
    {
     "name": "stdout",
     "output_type": "stream",
     "text": [
      "INSERTING Meiland, Jacob\n1 1 None None\n2 1 None None\n3 1 None None\n4 1 None None\n5 1 None None\n6 1 None None\n7 1 None None\n8 1 None None\n9 1 None None\n10 None None None\n11 None None None\n12 None None None\nINSERTING ?\n13 2 None None\n14 2 None None\n15 2 None None\n16 2 None None\nINSERTING Wert, Iaches\n17 3 None None\nINSERTING Schröter, Leonhart\n18 4 None None\nINSERTING Clemens Non Papa, Jacobus\n19 5 None None\n20 None None None\nINSERTING Senfl, Ludwig\n21 6 None None\n22 None None None\nINSERTING Isaac, Heinrich\n23 7 None None\n24 None None None\n25 None None None\n26 None None None\n27 None None None\n28 None None None\n29 None None None\nINSERTING Breitenger, Wilhelmus\n30 8 None None\n31 7 None None\nINSERTING Josquin\n32 9 None None\n33 9 None None\nINSERTING Danckerts, Ghiselin\n34 10 None None\nINSERTING Aliud (Danckerts?)\nINSERTING Danckerts?\n35 11 None 12\n36 9 None None\n37 6 None None\nINSERTING Lasso, Orlando di\n38 13 None None\nINSERTING Rivulo, Franciscus de\n39 14 None None\nINSERTING Lattre, Jean de\n40 15 None None\nINSERTING Animuccia, Giovanni\n41 16 None None\n42 14 None None\nINSERTING Kiesling, Geort\n43 17 None None\n44 5 None None\n45 13 None None\n46 4 None None\nINSERTING Verdelot, Philippe\n47 18 None None\n48 5 None None\nINSERTING Continus, Johannes\n49 19 None None\n50 13 None None\n51 13 None None\n52 None None None\nINSERTING Herm. Matth.\nINSERTING vermutl. Werrecore, Mathias\n53 20 None 21\nINSERTING Petit Jean\nINSERTING vermutl. Jean de Latre\n54 22 None 23\n55 5 None None\n56 6 None None\nINSERTING Phinot, Dominique\n57 24 None None\nINSERTING Arcadelt, Jakob\n58 25 None None\nINSERTING Paminger, Leonhard\n59 26 None None\n60 5 None None\n61 14 None None\n62 13 None None\nINSERTING Fey, Arnold\n63 27 None None\n64 9 None None\n65 None None None\n66 5 None None\nINSERTING Bucenus, Paulus\n67 28 None None\n68 5 None None\n69 14 None None\n70 14 None None\n71 14 None None\n72 14 None None\n73 14 None None\n74 5 None None\n75 None None None\n76 None None None\nINSERTING Walter, Johann\n77 29 None None\n78 14 None None\n79 6 None None\n80 None None None\n81 None None None\n82 13 None None\nINSERTING Utendal, Alexander\n83 30 None None\nINSERTING Scandello, Antonio\n84 31 None None\n85 31 None None\n86 5 None None\nINSERTING Hoffmann, Eucharius\n87 32 None None\n88 32 None None\n89 32 None None\n90 32 None None\n91 32 None None\n92 5 None None\n93 31 None None\n94 31 None None\nINSERTING Lechner, Leonhard\n95 33 None None\n96 None None None\n97 33 None None\n98 None None None\n99 None None None\n100 None None None\n101 None None None\n102 None None None\n103 None None None\n104 None None None\n105 None None None\n106 None None None\nINSERTING Gabrieli\n107 34 None None\n108 None None None\n109 None None None\nINSERTING Burck\n110 35 None None\nINSERTING Gallus, Jacob\n111 36 None None\n112 None None None\n113 None None None\n114 None None None\n115 None None None\n116 None None None\n117 None None None\n118 None None None\n119 None None None\nINSERTING Burch, Lu\n120 37 None None\n121 37 None None\n122 37 None None\n123 37 None None\n124 None None None\nINSERTING Vulpius, Melchior\n125 38 None None\n126 None None None\nINSERTING Pervernage, Andrea\n127 39 None None\n128 None None None\n129 None None None\n130 38 None None\n131 38 None None\n132 None None None\n133 None None None\n134 None None None\n135 None None None\n136 None None None\n137 None None None\n138 None None None\nINSERTING Rost, Nikolaus\n139 40 None None\nINSERTING Marenzio, Luca\n140 41 None None\n141 None None None\nINSERTING Gallus, Jacobus\n142 42 None None\n143 13 None None\nINSERTING Gorthusius, Arnold\n144 43 None None\n145 None None None\n146 42 None None\nINSERTING Vento, Ivo de\n147 44 None None\nINSERTING Praetorius, Philipp\n148 45 None None\n149 None None None\n150 None None None\n151 None None None\n152 None None None\n153 None None None\n154 None None None\n155 None None None\n156 None None None\n157 None None None\n158 None None None\n159 None None None\n160 None None None\n161 None None None\n162 None None None\n163 None None None\n164 None None None\n165 None None None\n166 None None None\n167 None None None\n168 None None None\n169 None None None\nINSERTING Lasso, Orlando, di\n170 46 None None\n171 None None None\n172 None None None\n173 None None None\n174 None None None\n175 None None None\n176 None None None\n"
     ]
    }
   ],
   "source": [
    "import db\n",
    "\n",
    "db_file = \"music.db\"\n",
    "db.remake_db(db_file)\n",
    "\n",
    "db.parse_data(\"database.csv\", db_file)\n"
   ]
  },
  {
   "cell_type": "code",
   "execution_count": 2,
   "metadata": {},
   "outputs": [
    {
     "name": "stdout",
     "output_type": "stream",
     "text": [
      "/home/bxu/code/github/musicdb\nINSERTING Meiland, Jacob\n1 1 None None\n2 1 None None\n3 1 None None\n4 1 None None\n5 1 None None\n6 1 None None\n7 1 None None\n8 1 None None\n9 1 None None\n10 None None None\n11 None None None\n12 None None None\nINSERTING ?\n13 2 None None\n14 2 None None\n15 2 None None\n16 2 None None\nINSERTING Wert, Iaches\n17 3 None None\nINSERTING Schröter, Leonhart\n18 4 None None\nINSERTING Clemens Non Papa, Jacobus\n19 5 None None\n20 None None None\nINSERTING Senfl, Ludwig\n21 6 None None\n22 None None None\nINSERTING Isaac, Heinrich\n23 7 None None\n24 None None None\n25 None None None\n26 None None None\n27 None None None\n28 None None None\n29 None None None\nINSERTING Breitenger, Wilhelmus\n30 8 None None\n31 7 None None\nINSERTING Josquin\n32 9 None None\n33 9 None None\nINSERTING Danckerts, Ghiselin\n34 10 None None\nINSERTING Aliud (Danckerts?)\nINSERTING Danckerts?\n35 11 None 12\n36 9 None None\n37 6 None None\nINSERTING Lasso, Orlando di\n38 13 None None\nINSERTING Rivulo, Franciscus de\n39 14 None None\nINSERTING Lattre, Jean de\n40 15 None None\nINSERTING Animuccia, Giovanni\n41 16 None None\n42 14 None None\nINSERTING Kiesling, Geort\n43 17 None None\n44 5 None None\n45 13 None None\n46 4 None None\nINSERTING Verdelot, Philippe\n47 18 None None\n48 5 None None\nINSERTING Continus, Johannes\n49 19 None None\n50 13 None None\n51 13 None None\n52 None None None\nINSERTING Herm. Matth.\nINSERTING vermutl. Werrecore, Mathias\n53 20 None 21\nINSERTING Petit Jean\nINSERTING vermutl. Jean de Latre\n54 22 None 23\n55 5 None None\n56 6 None None\nINSERTING Phinot, Dominique\n57 24 None None\nINSERTING Arcadelt, Jakob\n58 25 None None\nINSERTING Paminger, Leonhard\n59 26 None None\n60 5 None None\n61 14 None None\n62 13 None None\nINSERTING Fey, Arnold\n63 27 None None\n64 9 None None\n65 None None None\n66 5 None None\nINSERTING Bucenus, Paulus\n67 28 None None\n68 5 None None\n69 14 None None\n70 14 None None\n71 14 None None\n72 14 None None\n73 14 None None\n74 5 None None\n75 None None None\n76 None None None\nINSERTING Walter, Johann\n77 29 None None\n78 14 None None\n79 6 None None\n80 None None None\n81 None None None\n82 13 None None\nINSERTING Utendal, Alexander\n83 30 None None\nINSERTING Scandello, Antonio\n84 31 None None\n85 31 None None\n86 5 None None\nINSERTING Hoffmann, Eucharius\n87 32 None None\n88 32 None None\n89 32 None None\n90 32 None None\n91 32 None None\n92 5 None None\n93 31 None None\n94 31 None None\nINSERTING Lechner, Leonhard\n95 33 None None\n96 None None None\n97 33 None None\n98 None None None\n99 None None None\n100 None None None\n101 None None None\n102 None None None\n103 None None None\n104 None None None\n105 None None None\n106 None None None\nINSERTING Gabrieli\n107 34 None None\n108 None None None\n109 None None None\nINSERTING Burck\n110 35 None None\nINSERTING Gallus, Jacob\n111 36 None None\n112 None None None\n113 None None None\n114 None None None\n115 None None None\n116 None None None\n117 None None None\n118 None None None\n119 None None None\nINSERTING Burch, Lu\n120 37 None None\n121 37 None None\n122 37 None None\n123 37 None None\n124 None None None\nINSERTING Vulpius, Melchior\n125 38 None None\n126 None None None\nINSERTING Pervernage, Andrea\n127 39 None None\n128 None None None\n129 None None None\n130 38 None None\n131 38 None None\n132 None None None\n133 None None None\n134 None None None\n135 None None None\n136 None None None\n137 None None None\n138 None None None\nINSERTING Rost, Nikolaus\n139 40 None None\nINSERTING Marenzio, Luca\n140 41 None None\n141 None None None\nINSERTING Gallus, Jacobus\n142 42 None None\n143 13 None None\nINSERTING Gorthusius, Arnold\n144 43 None None\n145 None None None\n146 42 None None\nINSERTING Vento, Ivo de\n147 44 None None\nINSERTING Praetorius, Philipp\n148 45 None None\n149 None None None\n150 None None None\n151 None None None\n152 None None None\n153 None None None\n154 None None None\n155 None None None\n156 None None None\n157 None None None\n158 None None None\n159 None None None\n160 None None None\n161 None None None\n162 None None None\n163 None None None\n164 None None None\n165 None None None\n166 None None None\n167 None None None\n168 None None None\n169 None None None\nINSERTING Lasso, Orlando, di\n170 46 None None\n171 None None None\n172 None None None\n173 None None None\n174 None None None\n175 None None None\n176 None None None\n"
     ]
    }
   ],
   "source": [
    ""
   ]
  },
  {
   "cell_type": "code",
   "execution_count": null,
   "metadata": {
    "collapsed": true
   },
   "outputs": [],
   "source": []
  }
 ],
 "metadata": {
  "kernelspec": {
   "display_name": "Python 3",
   "language": "python",
   "name": "python3"
  },
  "language_info": {
   "codemirror_mode": {
    "name": "ipython",
    "version": 3
   },
   "file_extension": ".py",
   "mimetype": "text/x-python",
   "name": "python",
   "nbconvert_exporter": "python",
   "pygments_lexer": "ipython3",
   "version": "3.6.3"
  }
 },
 "nbformat": 4,
 "nbformat_minor": 2
}
